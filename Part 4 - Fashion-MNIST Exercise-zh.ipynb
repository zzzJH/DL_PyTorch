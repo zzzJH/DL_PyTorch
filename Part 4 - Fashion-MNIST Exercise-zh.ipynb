{
 "cells": [
  {
   "cell_type": "markdown",
   "metadata": {},
   "source": [
    "# 分类 Fashion-MNIST 数据集\n",
    "\n",
    "现在轮到你来构建一个神经网络了。你将使用的是 [Fashion-MNIST 数据集](https://github.com/zalandoresearch/fashion-mnist)，这是 MNIST 数据集的替代品。对于神经网络而言，原始的 MNIST 数据集体量太小，因而你可以轻易达到 97% 以上的准确率。而 Fashion-MNIST 数据集是一组有关衣物的 28x28 灰阶图像。这个数据集比 MNIST 复杂得多，因此你能更好地判断神经网络的性能，它也更加接近你在现实世界中使用的数据集。\n",
    "\n",
    "<img src='assets/fashion-mnist-sprite.png' width=500px>\n",
    "\n",
    "在这个 notebook 中，你将构建专属于你的神经网络。在大多数情况下，你可以直接复制粘贴第三部分的代码，但这样一来你很难学到知识。因此我们推荐你自己编写代码来运行程序，这十分重要。不过在完成这个任务时，你也可以随时查阅和参考之前的 notebook。\n",
    "\n",
    "首先，我们通过 torchvision 来加载数据集。"
   ]
  },
  {
   "cell_type": "code",
   "execution_count": 26,
   "metadata": {},
   "outputs": [],
   "source": [
    "import torch\n",
    "from torchvision import datasets, transforms\n",
    "import helper\n",
    "\n",
    "# Define a transform to normalize the data\n",
    "transform = transforms.Compose([transforms.ToTensor(),\n",
    "                                transforms.Normalize((0.5, 0.5, 0.5), (0.5, 0.5, 0.5))])\n",
    "# Download and load the training data\n",
    "trainset = datasets.FashionMNIST('F_MNIST_data/', download=True, train=True, transform=transform)\n",
    "trainloader = torch.utils.data.DataLoader(trainset, batch_size=64, shuffle=True)\n",
    "\n",
    "# Download and load the test data\n",
    "testset = datasets.FashionMNIST('F_MNIST_data/', download=True, train=False, transform=transform)\n",
    "testloader = torch.utils.data.DataLoader(testset, batch_size=64, shuffle=True)"
   ]
  },
  {
   "cell_type": "markdown",
   "metadata": {},
   "source": [
    "在这里，我们能看到其中一张图片。"
   ]
  },
  {
   "cell_type": "code",
   "execution_count": 36,
   "metadata": {},
   "outputs": [
    {
     "name": "stdout",
     "output_type": "stream",
     "text": [
      "torch.Size([64, 1, 28, 28])\n"
     ]
    },
    {
     "data": {
      "image/png": "[encoded data removed]",
      "text/plain": [
       "<matplotlib.figure.Figure at 0x7fd9649a05c0>"
      ]
     },
     "metadata": {
      "image/png": {
       "height": 233,
       "width": 233
      }
     },
     "output_type": "display_data"
    }
   ],
   "source": [
    "image, label = next(iter(trainloader))\n",
    "print(image.size())\n",
    "helper.imshow(image[0,:]);"
   ]
  },
  {
   "cell_type": "markdown",
   "metadata": {},
   "source": [
    "在加载数据之后，我们应该导入一些必要的包了。"
   ]
  },
  {
   "cell_type": "code",
   "execution_count": 28,
   "metadata": {},
   "outputs": [],
   "source": [
    "%matplotlib inline\n",
    "%config InlineBackend.figure_format = 'retina'\n",
    "\n",
    "import matplotlib.pyplot as plt\n",
    "import numpy as np\n",
    "import time\n",
    "\n",
    "import torch\n",
    "from torch import nn\n",
    "from torch import optim\n",
    "import torch.nn.functional as F\n",
    "from torch.autograd import Variable\n",
    "from torchvision import datasets, transforms\n",
    "\n",
    "import helper"
   ]
  },
  {
   "cell_type": "markdown",
   "metadata": {},
   "source": [
    "## 构建网络\n",
    "\n",
    "在这里，你应该定义你的网络。如同 MNIST 数据集一样，这里的每张图片的像素为 28x28，共有 784 个像素点和 10 个类。你至少需要添加一个隐藏层。对于这些层，我们推荐你使用 ReLU 激活函数，并通过前向传播来返回 logits。层的数量和大小都由你来决定。"
   ]
  },
  {
   "cell_type": "code",
   "execution_count": 40,
   "metadata": {},
   "outputs": [],
   "source": [
    "# TODO: Define your network architecture here\n",
    "class Network(nn.Module):\n",
    "    def __init__(self):\n",
    "        super().__init__()\n",
    "        self.fc1 = nn.Linear(784, 10)\n",
    "        \n",
    "    def forward(self, x):\n",
    "        x = self.fc1(x)\n",
    "        \n",
    "        return x\n",
    "    \n",
    "    def predict(self, x):\n",
    "        logits = self.forward(x)\n",
    "        return F.softmax(logits, dim=1)"
   ]
  },
  {
   "cell_type": "markdown",
   "metadata": {},
   "source": [
    "# 训练网络\n",
    "\n",
    "现在，你应该构建你的网络并训练它了。首先，你需要定义[条件](http://pytorch.org/docs/master/nn.html#loss-functions)（比如 `nn.CrossEntropyLoss`）以及[优化器](http://pytorch.org/docs/master/optim.html)（比如 `optim.SGD` 或 `optim.Adam`）。\n",
    "\n",
    "接着，你需要编写训练代码。请记住，训练传播是一个十分简明的过程：\n",
    "\n",
    "* 在网络中进行前向传播来获取 logits \n",
    "* 使用 logits 来计算损失\n",
    "* 使用 `loss.backward()` 在网络中进行后向传播来计算梯度\n",
    "* 使用优化器执行一个学习步来更新权重\n",
    "\n",
    "通过调整超参数（隐藏单元、学习速率等），你应该可以将训练损失控制在 0.4 以下。"
   ]
  },
  {
   "cell_type": "code",
   "execution_count": 41,
   "metadata": {},
   "outputs": [],
   "source": [
    "# TODO: Create the network, define the criterion and optimizer\n",
    "net = Network()\n",
    "criterion = nn.CrossEntropyLoss()\n",
    "optimizer = optim.SGD(net.parameters(), lr=0.01)"
   ]
  },
  {
   "cell_type": "code",
   "execution_count": 45,
   "metadata": {},
   "outputs": [
    {
     "name": "stderr",
     "output_type": "stream",
     "text": [
      "/opt/conda/lib/python3.6/site-packages/ipykernel_launcher.py:37: UserWarning: invalid index of a 0-dim tensor. This will be an error in PyTorch 0.5. Use tensor.item() to convert a 0-dim tensor to a Python number\n",
      "/opt/conda/lib/python3.6/site-packages/ipykernel_launcher.py:45: UserWarning: volatile was removed and now has no effect. Use `with torch.no_grad():` instead.\n"
     ]
    },
    {
     "name": "stdout",
     "output_type": "stream",
     "text": [
      "Epoch: 1/1 Loss: 1.6392 Test accuracy: 0.6584\n",
      "Epoch: 1/1 Loss: 1.1843 Test accuracy: 0.6897\n",
      "Epoch: 1/1 Loss: 1.0090 Test accuracy: 0.7068\n",
      "Epoch: 1/1 Loss: 0.9340 Test accuracy: 0.7136\n",
      "Epoch: 1/1 Loss: 0.8620 Test accuracy: 0.7272\n",
      "Epoch: 1/1 Loss: 0.8278 Test accuracy: 0.7352\n",
      "Epoch: 1/1 Loss: 0.7755 Test accuracy: 0.7342\n",
      "Epoch: 1/1 Loss: 0.8242 Test accuracy: 0.7410\n",
      "Epoch: 1/1 Loss: 0.7380 Test accuracy: 0.7486\n",
      "Epoch: 1/1 Loss: 0.7275 Test accuracy: 0.7514\n",
      "Epoch: 1/1 Loss: 0.6986 Test accuracy: 0.7545\n",
      "Epoch: 1/1 Loss: 0.6735 Test accuracy: 0.7615\n",
      "Epoch: 1/1 Loss: 0.6611 Test accuracy: 0.7673\n",
      "Epoch: 1/1 Loss: 0.6874 Test accuracy: 0.7677\n",
      "Epoch: 1/1 Loss: 0.6907 Test accuracy: 0.7702\n",
      "Epoch: 1/1 Loss: 0.6984 Test accuracy: 0.7727\n",
      "Epoch: 1/1 Loss: 0.6606 Test accuracy: 0.7758\n",
      "Epoch: 1/1 Loss: 0.6240 Test accuracy: 0.7721\n",
      "Epoch: 1/1 Loss: 0.6190 Test accuracy: 0.7759\n",
      "Epoch: 1/1 Loss: 0.6100 Test accuracy: 0.7789\n",
      "Epoch: 1/1 Loss: 0.6348 Test accuracy: 0.7787\n",
      "Epoch: 1/1 Loss: 0.6228 Test accuracy: 0.7759\n",
      "Epoch: 1/1 Loss: 0.6387 Test accuracy: 0.7814\n",
      "Epoch: 1/1 Loss: 0.5678 Test accuracy: 0.7816\n",
      "Epoch: 1/1 Loss: 0.6035 Test accuracy: 0.7870\n",
      "Epoch: 1/1 Loss: 0.6172 Test accuracy: 0.7830\n",
      "Epoch: 1/1 Loss: 0.5854 Test accuracy: 0.7841\n",
      "Epoch: 1/1 Loss: 0.5953 Test accuracy: 0.7887\n",
      "Epoch: 1/1 Loss: 0.6065 Test accuracy: 0.7871\n",
      "Epoch: 1/1 Loss: 0.5967 Test accuracy: 0.7898\n",
      "Epoch: 1/1 Loss: 0.5936 Test accuracy: 0.7880\n",
      "Epoch: 1/1 Loss: 0.5891 Test accuracy: 0.7950\n",
      "Epoch: 1/1 Loss: 0.5305 Test accuracy: 0.7942\n",
      "Epoch: 1/1 Loss: 0.6201 Test accuracy: 0.7959\n",
      "Epoch: 1/1 Loss: 0.5655 Test accuracy: 0.7980\n",
      "Epoch: 1/1 Loss: 0.5713 Test accuracy: 0.7952\n",
      "Epoch: 1/1 Loss: 0.5635 Test accuracy: 0.7948\n",
      "Epoch: 1/1 Loss: 0.5782 Test accuracy: 0.7964\n",
      "Epoch: 1/1 Loss: 0.5437 Test accuracy: 0.7963\n",
      "Epoch: 1/1 Loss: 0.5633 Test accuracy: 0.7992\n",
      "Epoch: 1/1 Loss: 0.5110 Test accuracy: 0.7958\n",
      "Epoch: 1/1 Loss: 0.5467 Test accuracy: 0.7952\n",
      "Epoch: 1/1 Loss: 0.5648 Test accuracy: 0.8010\n",
      "Epoch: 1/1 Loss: 0.5654 Test accuracy: 0.8014\n",
      "Epoch: 1/1 Loss: 0.5417 Test accuracy: 0.8016\n",
      "Epoch: 1/1 Loss: 0.5442 Test accuracy: 0.8026\n"
     ]
    }
   ],
   "source": [
    "# TODO: Train the network here\n",
    "# dataiter = iter(trainloader)\n",
    "# images, labels = dataiter.next()\n",
    "\n",
    "# images.resize_(64, 784)\n",
    "\n",
    "# inputs = Variable(images)\n",
    "# targets = Variable(labels)\n",
    "\n",
    "# optimizer.zero_grad()\n",
    "\n",
    "# output = net.forward(inputs)\n",
    "# loss = criterion(output, targets)\n",
    "# loss.backward()\n",
    "# optimizer.step()\n",
    "\n",
    "epochs = 1\n",
    "steps = 0\n",
    "running_loss = 0\n",
    "print_every = 20\n",
    "\n",
    "for e in range(epochs):\n",
    "    for images, labels in iter(trainloader):\n",
    "        steps += 1\n",
    "        \n",
    "        images.resize_(images.size()[0], 784)\n",
    "        \n",
    "        inputs = Variable(images)\n",
    "        targets = Variable(labels)\n",
    "        optimizer.zero_grad()\n",
    "        \n",
    "        output = net.forward(inputs)\n",
    "        loss = criterion(output, targets)\n",
    "        loss.backward()\n",
    "        optimizer.step()\n",
    "        \n",
    "        running_loss += loss.data[0]\n",
    "        \n",
    "        if steps % print_every == 0:\n",
    "            # Test accuracy\n",
    "            accuracy = 0\n",
    "            for ii, (images, labels) in enumerate(testloader):\n",
    "                \n",
    "                images = images.resize_(images.size()[0], 784)\n",
    "                inputs = Variable(images, volatile=True)\n",
    "                \n",
    "                predicted = net.predict(inputs).data\n",
    "                equality = (labels == predicted.max(1)[1])\n",
    "                accuracy += equality.type_as(torch.FloatTensor()).mean()\n",
    "            \n",
    "            print(\"Epoch: {}/{}\".format(e+1, epochs),\n",
    "                  \"Loss: {:.4f}\".format(running_loss/print_every),\n",
    "                  \"Test accuracy: {:.4f}\".format(accuracy/(ii+1)))\n",
    "            running_loss = 0"
   ]
  },
  {
   "cell_type": "code",
   "execution_count": 46,
   "metadata": {},
   "outputs": [
    {
     "data": {
      "image/png": "[encoded data removed]",
      "text/plain": [
       "<matplotlib.figure.Figure at 0x7fd967bf0320>"
      ]
     },
     "metadata": {
      "image/png": {
       "height": 224,
       "width": 423
      }
     },
     "output_type": "display_data"
    }
   ],
   "source": [
    "# Test out your network!\n",
    "\n",
    "dataiter = iter(testloader)\n",
    "images, labels = dataiter.next()\n",
    "img = images[0]\n",
    "# Convert 2D image to 1D vector\n",
    "img = img.resize_(1, 784)\n",
    "\n",
    "# TODO: Calculate the class probabilities (softmax) for img\n",
    "ps = net.predict(Variable(img))\n",
    "\n",
    "# Plot the image and probabilities\n",
    "helper.view_classify(img.resize_(1, 28, 28), ps)"
   ]
  },
  {
   "cell_type": "markdown",
   "metadata": {},
   "source": [
    "训练好神经网络之后，你应该希望保存这个网络以便下次加载，而不是重新训练。很明显，每次使用时都重新训练网络并不现实。在实际操作中，你将会在训练网络之后将模型保存，接着重新加载网络以进行训练或是预测。在下一部分，我将为你展示如何保存和加载训练好的模型。"
   ]
  }
 ],
 "metadata": {
  "kernelspec": {
   "display_name": "Python 3",
   "language": "python",
   "name": "python3"
  },
  "language_info": {
   "codemirror_mode": {
    "name": "ipython",
    "version": 3
   },
   "file_extension": ".py",
   "mimetype": "text/x-python",
   "name": "python",
   "nbconvert_exporter": "python",
   "pygments_lexer": "ipython3",
   "version": "3.6.3"
  }
 },
 "nbformat": 4,
 "nbformat_minor": 2
}
